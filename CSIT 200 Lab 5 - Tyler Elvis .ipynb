{
 "cells": [
  {
   "cell_type": "markdown",
   "id": "28b4b59e-13ad-4575-ad96-791f3fe3767a",
   "metadata": {},
   "source": [
    "# Lab 5 Problem 1\n",
    "def print_stars():\n",
    "print(*******)\n",
    "\n",
    "def add_them(num1, num2)\n",
    "result = num1 + num2\n",
    "return result\n",
    "\n",
    "def main()\n",
    "     print(enter two numbers)\n",
    "     num1 = input(number1)\n",
    "     num2 - input(number2)\n",
    "\n",
    "     result = add_them(num1 num2)\n",
    "     print(result)\n",
    "     for i in range(reuslt):\n",
    "     print_stars()\n",
    "add_them()\n",
    "     \n",
    "     \n",
    "\n",
    "if __name__ == __main__\n",
    "    main()\n"
   ]
  },
  {
   "cell_type": "code",
   "execution_count": 10,
   "id": "77e570ca-fcf9-47f3-b889-f0e148069fe2",
   "metadata": {},
   "outputs": [
    {
     "name": "stdout",
     "output_type": "stream",
     "text": [
      "Enter Two Numbers\n"
     ]
    },
    {
     "name": "stdin",
     "output_type": "stream",
     "text": [
      "Number 1:  3\n",
      "Number 2:  3\n"
     ]
    },
    {
     "name": "stdout",
     "output_type": "stream",
     "text": [
      "6\n",
      "*******\n",
      "*******\n",
      "*******\n",
      "*******\n",
      "*******\n",
      "*******\n"
     ]
    }
   ],
   "source": [
    "#tyler Elvis \n",
    "# this program will summ two numbers and then print 7 rows of stars for the sum times\n",
    "\n",
    "\"\"\"\n",
    "The print_stars() function prints y stars *\n",
    "\"\"\"\n",
    "def print_stars():\n",
    "    print(\"*******\")\n",
    "\n",
    "\"\"\"\n",
    "The add_them() method gets the sum of two numbers \n",
    "takes in two numbers as param\n",
    "\"\"\"\n",
    "def add_them(num1, num2):\n",
    "    result = num1 + num2\n",
    "    return result\n",
    "\n",
    "\"\"\"\n",
    "The main() function is the main function \n",
    "\"\"\"\n",
    "def main():\n",
    "    print(\"Enter Two Numbers\")\n",
    "    num1 = int(input(\"Number 1: \"))\n",
    "    num2 = int(input(\"Number 2: \"))\n",
    "    add = add_them(num1, num2)\n",
    "    print(str(add))\n",
    "    for i in range(add):\n",
    "        print_stars()\n",
    "    add_them(num1, num2)\n",
    "        \n",
    "if __name__ == \"__main__\":\n",
    "    main()\n"
   ]
  },
  {
   "cell_type": "markdown",
   "id": "ced40109-67b0-4f27-94b6-f4745e7a362c",
   "metadata": {},
   "source": [
    "# Lab 5 Problem 2\n",
    "def even_sum: \n",
    "    for j in range(0, 101, 2):\n",
    "    num2 = num2 + j\n",
    "    print(\"The sum of all even integers between 0 and 100: \"+ str(num2))\n",
    "\n",
    "def odd_sum: \n",
    "    for k in range(1, 101, 2):\n",
    "    #sum2 = sum2 + 1\n",
    "    num3 = num3 + k\n",
    "    print(\"The sum of all odd integers between 0 and 100: \"+ str(num3))\n",
    "\n",
    "def main(): \n",
    "    even_sum()\n",
    "    odd_sum()\n",
    "\n",
    "\n",
    "if __name__ = \"__main__\"\n",
    "    main()\n",
    "\n",
    "    "
   ]
  },
  {
   "cell_type": "code",
   "execution_count": 19,
   "id": "002ffe55-5cac-428b-8a17-87d2c52595ad",
   "metadata": {},
   "outputs": [
    {
     "name": "stdout",
     "output_type": "stream",
     "text": [
      "The sum of the even integers between 0 and 100 is: 2550\n",
      "The sum of the odd integers between 0 and 100 is: 2500\n"
     ]
    }
   ],
   "source": [
    "#Tyler Elvis \n",
    "# the program finds the sume of 0-100 for odd and even numebers \n",
    "\"\"\"\n",
    "The even_sum() function finds the sum of 0:100 of even numbers\n",
    "\"\"\"\n",
    "def even_sum():\n",
    "    num2 = 0 \n",
    "    for j in range(0, 101, 2):\n",
    "        num2 = num2 + j\n",
    "    print(\"The sum of the even integers between 0 and 100 is: \"+ str(num2))\n",
    "\n",
    "\"\"\"\n",
    "The odd_sum() function finds the sum of 0:100 of odd numbers\n",
    "\"\"\"\n",
    "def odd_sum():\n",
    "    num3 = 0\n",
    "    for k in range(1, 101, 2):\n",
    "        num3 = num3 + k\n",
    "    print(\"The sum of the odd integers between 0 and 100 is: \"+ str(num3))\n",
    "    \n",
    "\"\"\"\n",
    "the main() function is the main\n",
    "\"\"\"\n",
    "def main():\n",
    "    even_sum()\n",
    "    odd_sum()\n",
    "\n",
    "if __name__ == \"__main__\":\n",
    "    main()"
   ]
  },
  {
   "cell_type": "markdown",
   "id": "01f05163-812e-4c1c-be48-4c64fda1bf42",
   "metadata": {},
   "source": [
    "# lab 5 Problem 3\n",
    "def even_odd(num):\n",
    "    if num/2 != .5\n",
    "        print number is even\n",
    "    else \n",
    "        print number is odd\n",
    "def main() \n",
    "        while gmae != \"no\":\n",
    "        result = int(input(Enter a number))\n",
    "        print result\n",
    "        game_result = even_odd(result)\n",
    "        game = input(\"Would you like to go back to the game again? yes/no\")\n",
    "if __name__ == \"__main__\"\n",
    "    main()\n",
    "    "
   ]
  },
  {
   "cell_type": "code",
   "execution_count": 38,
   "id": "76955aba-66f1-42e0-b325-faf075f98723",
   "metadata": {},
   "outputs": [
    {
     "name": "stdin",
     "output_type": "stream",
     "text": [
      "Enter a number:  2\n"
     ]
    },
    {
     "name": "stdout",
     "output_type": "stream",
     "text": [
      "The Number is even\n",
      "2\n"
     ]
    },
    {
     "name": "stdin",
     "output_type": "stream",
     "text": [
      "Would you like to go back to the game again? yes/no yes\n",
      "Enter a number:  3\n"
     ]
    },
    {
     "name": "stdout",
     "output_type": "stream",
     "text": [
      "The number is odd\n",
      "3\n"
     ]
    },
    {
     "name": "stdin",
     "output_type": "stream",
     "text": [
      "Would you like to go back to the game again? yes/no yes\n",
      "Enter a number:  1\n"
     ]
    },
    {
     "name": "stdout",
     "output_type": "stream",
     "text": [
      "The number is odd\n",
      "1\n"
     ]
    },
    {
     "name": "stdin",
     "output_type": "stream",
     "text": [
      "Would you like to go back to the game again? yes/no yes\n",
      "Enter a number:  10\n"
     ]
    },
    {
     "name": "stdout",
     "output_type": "stream",
     "text": [
      "The Number is even\n",
      "10\n"
     ]
    },
    {
     "name": "stdin",
     "output_type": "stream",
     "text": [
      "Would you like to go back to the game again? yes/no no\n"
     ]
    }
   ],
   "source": [
    "# Tyler Elvis \n",
    "# this program tells if a number is even or odd\n",
    "\n",
    "\"\"\"\n",
    "The even_odd() function finds weather a number is even or odd \n",
    "takes in one number\n",
    "\"\"\"\n",
    "def even_odd(num):\n",
    "    num_result = num % 2\n",
    "    if num_result == 0: \n",
    "        print(\"The Number is even\")\n",
    "    else:\n",
    "        print(\"The number is odd\")\n",
    "\n",
    "\"\"\"\n",
    "The main() function is the main \n",
    "\"\"\"\n",
    "def main():\n",
    "\n",
    "    game = \"\"\n",
    "    while game != \"no\":\n",
    "        game_input = int(input(\"Enter a number: \"))\n",
    "        results = even_odd(game_input)\n",
    "        print(game_input)       \n",
    "        \n",
    "        game = input(\"Would you like to go back to the game again? yes/no\")\n",
    "\n",
    "\n",
    "if __name__ == \"__main__\":\n",
    "    main()\n",
    "\n",
    "    "
   ]
  },
  {
   "cell_type": "code",
   "execution_count": null,
   "id": "a75967c7-4922-497f-9448-8dd60caf67ce",
   "metadata": {},
   "outputs": [],
   "source": []
  }
 ],
 "metadata": {
  "kernelspec": {
   "display_name": "Python 3 (ipykernel)",
   "language": "python",
   "name": "python3"
  },
  "language_info": {
   "codemirror_mode": {
    "name": "ipython",
    "version": 3
   },
   "file_extension": ".py",
   "mimetype": "text/x-python",
   "name": "python",
   "nbconvert_exporter": "python",
   "pygments_lexer": "ipython3",
   "version": "3.12.4"
  }
 },
 "nbformat": 4,
 "nbformat_minor": 5
}
